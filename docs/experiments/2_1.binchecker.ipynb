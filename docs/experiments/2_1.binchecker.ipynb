{
 "cells": [
  {
   "cell_type": "markdown",
   "metadata": {},
   "source": [
    "# The effect of bin size on compression in tanh\n",
    "It is mathematically shown that mapping a signal through an injective function does not alter the information content of the signal [Reference due, ask Turan]. Anyhow, with current settings for the binning mutual information estimator we see a reduction in entropy of the resulting signal after mapping through tanh (See https://deep-bottleneck.readthedocs.io/en/latest/experiments/2.minimal_model.html) We attempt to investigate whether this problem in the measurement of mutual information is the root cause for seeing a compression phase in tanh activated networks. We again use the setting of the minimal model with only one neuron and a tanh activation function. We systematiacally vary the number of bins and observe preactivation value ranges for which the mutual information stays constant.\n"
   ]
  },
  {
   "cell_type": "code",
   "execution_count": 1,
   "metadata": {},
   "outputs": [],
   "source": [
    "import numpy as np\n",
    "np.random.seed(0)\n",
    "from scipy import stats\n",
    "import matplotlib.pyplot as plt\n",
    "import seaborn as sns\n",
    "import tensorflow as tf\n",
    "import tensorflow.contrib.eager as tfe\n",
    "tf.enable_eager_execution()"
   ]
  },
  {
   "cell_type": "markdown",
   "metadata": {},
   "source": [
    "We sample weights. For every one of these weights we will pass the whole set of input data through the neuron. "
   ]
  },
  {
   "cell_type": "code",
   "execution_count": 2,
   "metadata": {},
   "outputs": [],
   "source": [
    "weights = np.arange(0.01, 5, 0.05)"
   ]
  },
  {
   "cell_type": "code",
   "execution_count": 3,
   "metadata": {},
   "outputs": [
    {
     "data": {
      "text/plain": [
       "array([ 0.01,  0.06,  0.11,  0.16,  0.21,  0.26,  0.31,  0.36,  0.41,\n",
       "        0.46,  0.51,  0.56,  0.61,  0.66,  0.71,  0.76,  0.81,  0.86,\n",
       "        0.91,  0.96,  1.01,  1.06,  1.11,  1.16,  1.21,  1.26,  1.31,\n",
       "        1.36,  1.41,  1.46,  1.51,  1.56,  1.61,  1.66,  1.71,  1.76,\n",
       "        1.81,  1.86,  1.91,  1.96,  2.01,  2.06,  2.11,  2.16,  2.21,\n",
       "        2.26,  2.31,  2.36,  2.41,  2.46,  2.51,  2.56,  2.61,  2.66,\n",
       "        2.71,  2.76,  2.81,  2.86,  2.91,  2.96,  3.01,  3.06,  3.11,\n",
       "        3.16,  3.21,  3.26,  3.31,  3.36,  3.41,  3.46,  3.51,  3.56,\n",
       "        3.61,  3.66,  3.71,  3.76,  3.81,  3.86,  3.91,  3.96,  4.01,\n",
       "        4.06,  4.11,  4.16,  4.21,  4.26,  4.31,  4.36,  4.41,  4.46,\n",
       "        4.51,  4.56,  4.61,  4.66,  4.71,  4.76,  4.81,  4.86,  4.91,  4.96])"
      ]
     },
     "execution_count": 3,
     "metadata": {},
     "output_type": "execute_result"
    }
   ],
   "source": [
    "weights"
   ]
  },
  {
   "cell_type": "markdown",
   "metadata": {},
   "source": [
    "The input is sampled from a standard normal distribution."
   ]
  },
  {
   "cell_type": "code",
   "execution_count": 4,
   "metadata": {},
   "outputs": [
    {
     "data": {
      "image/png": "[encoded data removed]",
      "text/plain": [
       "<matplotlib.figure.Figure at 0x7fe8106d4390>"
      ]
     },
     "metadata": {},
     "output_type": "display_data"
    },
    {
     "name": "stdout",
     "output_type": "stream",
     "text": [
      "Minimum input: -3.0461430547999266, Maximum input: 2.759355114021582\n"
     ]
    }
   ],
   "source": [
    "input_distribution = stats.norm()\n",
    "input_ = input_distribution.rvs(1000)\n",
    "plt.hist(input_, bins=30);\n",
    "plt.show()\n",
    "print(f'Minimum input: {np.min(input_)}, Maximum input: {np.max(input_)}')"
   ]
  },
  {
   "cell_type": "markdown",
   "metadata": {},
   "source": [
    "The input is multiplied by the different weights. This is the pass from the input neuron to the hidden neuron. We furthermore calculate the mininmum and maximum preactivation values for each weight as well as their range."
   ]
  },
  {
   "cell_type": "code",
   "execution_count": 5,
   "metadata": {},
   "outputs": [
    {
     "name": "stdout",
     "output_type": "stream",
     "text": [
      "[  0.05805498   0.34832989   0.6386048    0.92887971   1.21915462\n",
      "   1.50942952   1.79970443   2.08997934   2.38025425   2.67052916\n",
      "   2.96080407   3.25107897   3.54135388   3.83162879   4.1219037\n",
      "   4.41217861   4.70245352   4.99272843   5.28300333   5.57327824\n",
      "   5.86355315   6.15382806   6.44410297   6.73437788   7.02465278\n",
      "   7.31492769   7.6052026    7.89547751   8.18575242   8.47602733\n",
      "   8.76630223   9.05657714   9.34685205   9.63712696   9.92740187\n",
      "  10.21767678  10.50795169  10.79822659  11.0885015   11.37877641\n",
      "  11.66905132  11.95932623  12.24960114  12.53987604  12.83015095\n",
      "  13.12042586  13.41070077  13.70097568  13.99125059  14.2815255\n",
      "  14.5718004   14.86207531  15.15235022  15.44262513  15.73290004\n",
      "  16.02317495  16.31344985  16.60372476  16.89399967  17.18427458\n",
      "  17.47454949  17.7648244   18.05509931  18.34537421  18.63564912\n",
      "  18.92592403  19.21619894  19.50647385  19.79674876  20.08702366\n",
      "  20.37729857  20.66757348  20.95784839  21.2481233   21.53839821\n",
      "  21.82867311  22.11894802  22.40922293  22.69949784  22.98977275\n",
      "  23.28004766  23.57032257  23.86059747  24.15087238  24.44114729\n",
      "  24.7314222   25.02169711  25.31197202  25.60224692  25.89252183\n",
      "  26.18279674  26.47307165  26.76334656  27.05362147  27.34389638\n",
      "  27.63417128  27.92444619  28.2147211   28.50499601  28.79527092]\n"
     ]
    }
   ],
   "source": [
    "net_input = np.outer(weights, input_)\n",
    "min_per_weight = np.min(net_input, axis=1)\n",
    "max_per_weight = np.max(net_input, axis=1)\n",
    "ranges = max_per_weight - min_per_weight\n",
    "print(ranges)"
   ]
  },
  {
   "cell_type": "markdown",
   "metadata": {},
   "source": [
    "The activation functions we want to test."
   ]
  },
  {
   "cell_type": "code",
   "execution_count": 6,
   "metadata": {},
   "outputs": [],
   "source": [
    "#def hard_sigmoid(x):\n",
    "#    lower_bound = -2.5\n",
    "#    upper_bound = 2.5\n",
    "#    linear = 0.2 * x + 0.5\n",
    "#    linear[x < lower_bound] = 0\n",
    "#    linear[x > upper_bound] = 1\n",
    "#    return linear\n",
    "\n",
    "def linear(x):\n",
    "    return x\n",
    "\n",
    "#activation_functions = [tf.nn.sigmoid, tf.nn.tanh, tf.nn.relu, tf.nn.softsign, tf.nn.softplus, hard_sigmoid, \n",
    "#                       tf.nn.selu, tf.nn.relu6, tf.nn.elu, tf.nn.leaky_relu, linear]\n",
    "\n",
    "activation_functions = [tf.nn.tanh, linear]"
   ]
  },
  {
   "cell_type": "markdown",
   "metadata": {},
   "source": [
    "Apply the activation functions to the weighted inputs."
   ]
  },
  {
   "cell_type": "code",
   "execution_count": 7,
   "metadata": {},
   "outputs": [],
   "source": [
    "outputs = {}\n",
    "for actvation_function in activation_functions:\n",
    "    try:\n",
    "        outputs[actvation_function.__name__] = actvation_function(net_input).numpy()\n",
    "    except AttributeError:\n",
    "        outputs[actvation_function.__name__] = actvation_function(net_input)"
   ]
  },
  {
   "cell_type": "markdown",
   "metadata": {},
   "source": [
    "We now estimate the discrete mututal information between the input $X$ and the activity of the hidden neuron $Y$, which is in this case also the output. $H(Y|X) = 0$, since $Y$ is a deterministic function of $X$. Therefore\n",
    "\n",
    "\\begin{align}\n",
    "I(X;Y) &= H(Y) - H(Y|X)\\\\\n",
    "       &= H(Y)\\\\\n",
    "\\end{align}\n",
    "\n",
    "The entropy of the input is "
   ]
  },
  {
   "cell_type": "code",
   "execution_count": 8,
   "metadata": {},
   "outputs": [
    {
     "name": "stdout",
     "output_type": "stream",
     "text": [
      "8.80 bits\n"
     ]
    }
   ],
   "source": [
    "dig, _ = np.histogram(input_, 1000)\n",
    "print(f'{stats.entropy(dig, base=2):.2f} bits')"
   ]
  },
  {
   "cell_type": "markdown",
   "metadata": {},
   "source": [
    "We create a fixed number of bins between the **minimum and the maximum activity for each weight**."
   ]
  },
  {
   "cell_type": "code",
   "execution_count": 9,
   "metadata": {
    "scrolled": false
   },
   "outputs": [
    {
     "data": {
      "image/png": "[encoded data removed]",
      "text/plain": [
       "<matplotlib.figure.Figure at 0x7fe7cb9ee278>"
      ]
     },
     "metadata": {},
     "output_type": "display_data"
    }
   ],
   "source": [
    "fig, ax = plt.subplots(nrows=len(outputs), figsize=(10, 8), sharey=True)\n",
    "ax = ax.flat\n",
    "for ax_idx, (activation_function, Y) in enumerate(outputs.items()):\n",
    "    \n",
    "    mi = np.zeros(len(weights))\n",
    "    for i in range(len(weights)):\n",
    "        digitized, _ = np.histogram(Y[i], bins=100000)\n",
    "        mi[i] = stats.entropy(digitized, base=2) \n",
    "\n",
    "    ax[ax_idx].plot(weights,  mi)\n",
    "    ax[ax_idx].set(title=f'{activation_function}; max H = {mi.max():.2f}', xlabel='w', ylabel='I(X;T)', ylim=[0,10]) \n",
    "    \n",
    "plt.tight_layout()\n",
    "plt.show()"
   ]
  },
  {
   "cell_type": "markdown",
   "metadata": {},
   "source": [
    "We now systematically vary the amount of bins and match the preactivation value range which yields no more than 5% underestimation of theoretically true MI. "
   ]
  },
  {
   "cell_type": "code",
   "execution_count": 11,
   "metadata": {},
   "outputs": [
    {
     "name": "stdout",
     "output_type": "stream",
     "text": [
      "5.40833602348\n",
      "5.40833602348\n",
      "5.54630377918\n",
      "5.82223929059\n",
      "5.96020704629\n",
      "6.37411031339\n",
      "6.65004582479\n",
      "6.92598133619\n",
      "7.2019168476\n",
      "7.477852359\n",
      "7.6158201147\n",
      "8.1676911375\n",
      "10.237207473\n"
     ]
    }
   ],
   "source": [
    "varying_bins = [1000, 2000, 3000, 4000, 5000, \n",
    "                10000, 15000, 20000, 30000, 40000, 50000, \n",
    "                100000, 1000000]\n",
    "\n",
    "#input_entropies\n",
    "for bins in varying_bins:\n",
    "    # entropy input\n",
    "    dig, _ = np.histogram(input_, bins)\n",
    "    input_entropy = stats.entropy(dig, base=2)\n",
    "    # entropy representation\n",
    "    mi = np.zeros(len(weights))\n",
    "    for i in range(len(weights)):\n",
    "        digitized, _ = np.histogram(outputs['tanh'][i], bins=bins)\n",
    "        mi[i] = stats.entropy(digitized, base=2) \n",
    "      \n",
    "    error_threshold = input_entropy * 0.95\n",
    "    _, indices = np.where([mi < error_threshold])\n",
    "    first_index_below_threshold = indices[0]\n",
    "    print(max_per_weight[first_index_below_threshold])"
   ]
  },
  {
   "cell_type": "code",
   "execution_count": null,
   "metadata": {},
   "outputs": [],
   "source": []
  }
 ],
 "metadata": {
  "kernelspec": {
   "display_name": "Python 3",
   "language": "python",
   "name": "python3"
  },
  "language_info": {
   "codemirror_mode": {
    "name": "ipython",
    "version": 3
   },
   "file_extension": ".py",
   "mimetype": "text/x-python",
   "name": "python",
   "nbconvert_exporter": "python",
   "pygments_lexer": "ipython3",
   "version": "3.6.5"
  }
 },
 "nbformat": 4,
 "nbformat_minor": 2
}
